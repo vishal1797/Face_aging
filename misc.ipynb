{
 "cells": [
  {
   "cell_type": "code",
   "execution_count": 1,
   "id": "292a2692",
   "metadata": {},
   "outputs": [],
   "source": [
    "from torch import nn\n",
    "from torch import optim\n",
    "from torch.autograd import Variable\n",
    "import torch\n",
    "\n",
    "    \n",
    "def one_hot(labelTensor, batchSize, n_l, use_cuda=False):\n",
    "    oneHot = - torch.ones(batchSize * n_l).view(batchSize, n_l)\n",
    "    for i, j in enumerate(labelTensor):\n",
    "        oneHot[i, int(j.item())] = 1  # Convert j to int to use as an index\n",
    "    if use_cuda:\n",
    "        return Variable(oneHot).cuda()\n",
    "    else:\n",
    "        return Variable(oneHot)\n",
    "\n",
    "\n",
    "\n",
    "def TV_LOSS(imgTensor,img_size=128):\n",
    "    x = (imgTensor[:,:,1:,:]-imgTensor[:,:,:img_size-1,:])**2\n",
    "    y = (imgTensor[:,:,:,1:]-imgTensor[:,:,:,:img_size-1])**2\n",
    "\n",
    "    out = (x.mean(dim=2)+y.mean(dim=3)).mean()\n",
    "    return out"
   ]
  },
  {
   "cell_type": "code",
   "execution_count": null,
   "id": "6d716e60",
   "metadata": {},
   "outputs": [],
   "source": []
  },
  {
   "cell_type": "code",
   "execution_count": null,
   "id": "37be6091",
   "metadata": {},
   "outputs": [],
   "source": []
  }
 ],
 "metadata": {
  "kernelspec": {
   "display_name": "Python 3 (ipykernel)",
   "language": "python",
   "name": "python3"
  },
  "language_info": {
   "codemirror_mode": {
    "name": "ipython",
    "version": 3
   },
   "file_extension": ".py",
   "mimetype": "text/x-python",
   "name": "python",
   "nbconvert_exporter": "python",
   "pygments_lexer": "ipython3",
   "version": "3.11.3"
  }
 },
 "nbformat": 4,
 "nbformat_minor": 5
}
